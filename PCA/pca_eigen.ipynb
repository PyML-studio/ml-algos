{
 "cells": [
  {
   "cell_type": "code",
   "execution_count": null,
   "metadata": {},
   "outputs": [],
   "source": [
    "import numpy as np\n",
    "\n",
    "class PCA():\n",
    "    def __init__(self, n_components):\n",
    "        self.n_components = n_components\n",
    "        self.components = None\n",
    "        self.mean = None\n",
    "        self.explained_variance_ratio_ = None\n",
    "\n",
    "    def fit(self, X):\n",
    "        # mean centering\n",
    "        self.mean = np.mean(X, axis=0)\n",
    "        X_centered = X - self.mean\n",
    "\n",
    "        # covariance matrix\n",
    "        cov_matrix = np.cov(X_centered.T)\n",
    "        eigenvalues, eigenvectors = np.linalg.eig(cov_matrix)\n",
    "\n",
    "        # sort eigenvectors by eigenvalues\n",
    "        eigenvectors = eigenvectors.T\n",
    "        sorted_indices = np.argsort(eigenvalues)[::-1]\n",
    "        eigenvectors = eigenvectors[sorted_indices]\n",
    "        eigenvalues = eigenvalues[sorted_indices]\n",
    "\n",
    "        # store first n_components eigenvectors\n",
    "        self.components = eigenvectors[:self.n_components]\n",
    "\n",
    "        # explained variance ratio\n",
    "        total_variance = np.sum(eigenvalues)\n",
    "        self.explained_variance_ratio_ = eigenvalues / total_variance\n",
    "\n",
    "    def transform(self, X):\n",
    "        X = X - self.mean\n",
    "        return np.dot(X, self.components.T)\n",
    "\n",
    "    def fit_transform(self, X):\n",
    "        self.fit(X)\n",
    "        return self.transform(X)\n",
    "\n",
    "    def inverse_transform(self, X):\n",
    "        return np.dot(X, self.components) + self.mean\n",
    "\n",
    "    def reconstruct(self, X):\n",
    "        return self.inverse_transform(self.transform(X))\n",
    "\n",
    "    def explained_variance_ratio(self):\n",
    "        return self.explained_variance_ratio_\n"
   ]
  },
  {
   "cell_type": "code",
   "execution_count": null,
   "metadata": {},
   "outputs": [],
   "source": []
  }
 ],
 "metadata": {
  "kernelspec": {
   "display_name": "py310",
   "language": "python",
   "name": "python3"
  },
  "language_info": {
   "codemirror_mode": {
    "name": "ipython",
    "version": 3
   },
   "file_extension": ".py",
   "mimetype": "text/x-python",
   "name": "python",
   "nbconvert_exporter": "python",
   "pygments_lexer": "ipython3",
   "version": "3.10.15"
  }
 },
 "nbformat": 4,
 "nbformat_minor": 2
}
