{
 "cells": [
  {
   "cell_type": "markdown",
   "metadata": {},
   "source": [
    "## Decision Tree (classification)\n",
    "\n",
    "### Gini impurity\n",
    "\n",
    " * with $c$ classes:\n",
    "$$I_G(p)=1 - \\sum_{j=1}^c p_j^2$$"
   ]
  },
  {
   "cell_type": "code",
   "execution_count": 6,
   "metadata": {},
   "outputs": [
    {
     "name": "stdout",
     "output_type": "stream",
     "text": [
      "0.48979591836734704\n"
     ]
    }
   ],
   "source": [
    "from collections import Counter\n",
    "\n",
    "def calc_gini(y):\n",
    "    m = len(y)\n",
    "    if m == 0:\n",
    "        return 0\n",
    "    counts = Counter(y)\n",
    "    probas = [c/m for c in counts.values()]\n",
    "    impurity = 1 - sum([p**2 for p in probas])\n",
    "    return impurity\n",
    "\n",
    "# testing the function\n",
    "y = [1, 1, 1, 1, 0, 0, 0]\n",
    "print(calc_gini(y))"
   ]
  },
  {
   "cell_type": "code",
   "execution_count": null,
   "metadata": {},
   "outputs": [],
   "source": []
  }
 ],
 "metadata": {
  "kernelspec": {
   "display_name": "py310",
   "language": "python",
   "name": "python3"
  },
  "language_info": {
   "codemirror_mode": {
    "name": "ipython",
    "version": 3
   },
   "file_extension": ".py",
   "mimetype": "text/x-python",
   "name": "python",
   "nbconvert_exporter": "python",
   "pygments_lexer": "ipython3",
   "version": "3.10.15"
  }
 },
 "nbformat": 4,
 "nbformat_minor": 2
}
