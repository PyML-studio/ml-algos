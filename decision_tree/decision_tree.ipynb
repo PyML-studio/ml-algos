{
 "cells": [
  {
   "cell_type": "markdown",
   "metadata": {},
   "source": [
    "## Decision Tree (classification)\n",
    "\n",
    "### Gini impurity\n",
    "\n",
    " * with $c$ classes:\n",
    "$$I_G(p)=1 - \\sum_{j=1}^c p_j^2$$"
   ]
  },
  {
   "cell_type": "code",
   "execution_count": 1,
   "metadata": {},
   "outputs": [],
   "source": [
    "import math\n",
    "from collections import Counter\n",
    "\n",
    "import numpy as np"
   ]
  },
  {
   "cell_type": "code",
   "execution_count": 2,
   "metadata": {},
   "outputs": [
    {
     "name": "stdout",
     "output_type": "stream",
     "text": [
      "0.48979591836734704\n"
     ]
    }
   ],
   "source": [
    "\n",
    "def calc_gini(y):\n",
    "    m = len(y)\n",
    "    if m == 0:\n",
    "        return 0\n",
    "    counts = Counter(y)\n",
    "    probas = [c/m for c in counts.values()]\n",
    "    impurity = 1 - sum([p**2 for p in probas])\n",
    "    return impurity\n",
    "\n",
    "# testing the function\n",
    "y = [1, 1, 1, 1, 0, 0, 0]\n",
    "print(calc_gini(y))"
   ]
  },
  {
   "cell_type": "code",
   "execution_count": 3,
   "metadata": {},
   "outputs": [
    {
     "name": "stdout",
     "output_type": "stream",
     "text": [
      "0.9852281360342516\n"
     ]
    }
   ],
   "source": [
    "def entropy(y):\n",
    "    m = len(y)\n",
    "    counts = Counter(y)\n",
    "    probas = [c/m for c in counts.values()]\n",
    "    return -sum([p * math.log(p, 2) for p in probas])\n",
    "\n",
    "# testing the function\n",
    "y = [1, 1, 1, 1, 0, 0, 0]\n",
    "print(entropy(y))"
   ]
  },
  {
   "cell_type": "code",
   "execution_count": null,
   "metadata": {},
   "outputs": [
    {
     "name": "stdout",
     "output_type": "stream",
     "text": [
      "[0 3] [1 2]\n"
     ]
    }
   ],
   "source": [
    "def split_dataset(X, feature_index, threshold):\n",
    "    left_indices = np.where(X[:, feature_index] < threshold)[0]\n",
    "    right_indices = np.where(X[:, feature_index] >= threshold)[0]\n",
    "\n",
    "    return left_indices, right_indices\n",
    "\n",
    "# testing the function\n",
    "X = np.array([[-1, 2], [3, 4], [3, 6], [-2, 8]])\n",
    "feature_index = 0\n",
    "threshold = 0\n",
    "left, right = split_dataset(X, feature_index, threshold)\n",
    "print(left, right)"
   ]
  },
  {
   "cell_type": "code",
   "execution_count": 14,
   "metadata": {},
   "outputs": [
    {
     "name": "stdout",
     "output_type": "stream",
     "text": [
      "0.125\n",
      "0.0\n"
     ]
    }
   ],
   "source": [
    "def gini_split(X, y, feature_index, threshold):\n",
    "    left_indices, right_indices = split_dataset(X, feature_index, threshold)\n",
    "    left_y, right_y = y[left_indices], y[right_indices]\n",
    "    m = len(y)\n",
    "    w_left, w_right = len(left_y) / m, len(right_y) / m\n",
    "    gini_left = calc_gini(left_y)\n",
    "    gini_right = calc_gini(right_y)\n",
    "    gini = (w_left/m) * gini_left + (w_right/m) * gini_right\n",
    "    return gini\n",
    "\n",
    "# testing the function\n",
    "y = np.array([1, 1, 0, 0])\n",
    "print(gini_split(X, y, feature_index, threshold))\n",
    "y = np.array([0, 1, 1, 0])\n",
    "print(gini_split(X, y, feature_index, threshold))"
   ]
  },
  {
   "cell_type": "code",
   "execution_count": null,
   "metadata": {},
   "outputs": [],
   "source": [
    "class DecisionTree():\n",
    "    def __init__(\n",
    "            self,\n",
    "            max_depth=None,\n",
    "            min_samples_split=2,\n",
    "            criterion='gini'\n",
    "        ):\n",
    "        self.max_depth = max_depth\n",
    "        self.min_samples_split = min_samples_split\n",
    "        self.criterion = criterion\n",
    "\n",
    "    def fit(self, X, y):\n",
    "        self.n_classes = len(np.unique(y))\n",
    "        self.n_features = X.shape[1]\n",
    "        self.tree = self._build_tree(X, y)\n",
    "\n",
    "    def _build_tree(self, X, y, depth=0):\n",
    "        n_samples, n_features = X.shape\n",
    "\n",
    "        if depth >= self.max_depth or n_samples < self.min_samples_split:\n",
    "            return {\n",
    "                \"leaf\": True,\n",
    "                'value': self._most_common_label(y)\n",
    "            }\n",
    "        \n",
    "        if self.criterion == 'gini':\n",
    "            impurity_func = calc_gini\n",
    "        else:\n",
    "            impurity_func = entropy\n",
    "\n",
    "        best_impurity = float('inf')\n",
    "\n",
    "        best_feature, best_threshold = self._find_best_split(X, y, n_features)\n",
    "        if best_feature is None:\n",
    "            return {\n",
    "                \"leaf\": True,\n",
    "                'value': self._most_common_label(y)\n",
    "            }\n",
    "        left_indices, right_indices = split_dataset(X, best_feature, best_threshold)\n",
    "\n",
    "        return {\n",
    "            \"leaf\": False,\n",
    "            \"feature_index\": best_feature,\n",
    "            \"threshold\": best_threshold,\n",
    "            \"left\": self._build_tree(X[left_indices], y[left_indices], depth + 1),\n",
    "            \"right\": self._build_tree(X[right_indices], y[right_indices], depth + 1)\n",
    "        }\n",
    "        \n",
    "    def _find_best_split(self, X, y, n_features):\n",
    "        best_feature = None\n",
    "        best_threshold = None\n",
    "        best_impurity = float('inf')\n",
    "\n",
    "        for feature_index in range(n_features):\n",
    "            thresholds = np.unique(X[:, feature_index])\n",
    "            for threshold in thresholds:\n",
    "                impurity = gini_split(X, y, feature_index, threshold)\n",
    "                if impurity < best_impurity:\n",
    "                    best_feature = feature_index\n",
    "                    best_threshold = threshold\n",
    "                    best_impurity = impurity\n",
    "\n",
    "        return best_feature, best_threshold\n",
    "    \n",
    "    def _most_common_label(self, y):\n",
    "        return Counter(y).most_common(1)[0][0]\n",
    "    \n",
    "    def predict(self, X):\n",
    "        predictions = [self._predict(inputs) for inputs in X]\n",
    "        return np.array(predictions)\n",
    "    \n",
    "    def _predict_sample(self, x, tree):\n",
    "        if tree['leaf']:\n",
    "            return tree['value']\n",
    "        feature_value = x[tree['feature_index']]\n",
    "        if feature_value < tree['threshold']:\n",
    "            return self._predict_sample(x, tree['left'])\n",
    "        else:\n",
    "            return self._predict_sample(x, tree['right'])\n"
   ]
  }
 ],
 "metadata": {
  "kernelspec": {
   "display_name": "py310",
   "language": "python",
   "name": "python3"
  },
  "language_info": {
   "codemirror_mode": {
    "name": "ipython",
    "version": 3
   },
   "file_extension": ".py",
   "mimetype": "text/x-python",
   "name": "python",
   "nbconvert_exporter": "python",
   "pygments_lexer": "ipython3",
   "version": "3.10.15"
  }
 },
 "nbformat": 4,
 "nbformat_minor": 2
}
